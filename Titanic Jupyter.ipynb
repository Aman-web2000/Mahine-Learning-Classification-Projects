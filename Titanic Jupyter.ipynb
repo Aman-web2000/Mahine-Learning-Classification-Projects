{
 "cells": [
  {
   "cell_type": "markdown",
   "id": "7b84baa2",
   "metadata": {},
   "source": [
    "## <u> Exploratory Data Analysis And Machine Learning Project </u>"
   ]
  },
  {
   "cell_type": "code",
   "execution_count": 1,
   "id": "c79daf3e",
   "metadata": {},
   "outputs": [],
   "source": [
    "## importing basic libraries \n",
    "\n",
    "import numpy as np \n",
    "import pandas as pd \n",
    "import matplotlib.pyplot as plt \n",
    "import seaborn as sns \n",
    "sns.set_style(\"darkgrid\")\n",
    "\n",
    "%matplotlib inline"
   ]
  },
  {
   "cell_type": "markdown",
   "id": "f5d50f90",
   "metadata": {},
   "source": [
    "## <u><strong> Importing Data </strong></u>"
   ]
  },
  {
   "cell_type": "code",
   "execution_count": 2,
   "id": "e6a652ae",
   "metadata": {},
   "outputs": [
    {
     "data": {
      "text/html": [
       "<div>\n",
       "<style scoped>\n",
       "    .dataframe tbody tr th:only-of-type {\n",
       "        vertical-align: middle;\n",
       "    }\n",
       "\n",
       "    .dataframe tbody tr th {\n",
       "        vertical-align: top;\n",
       "    }\n",
       "\n",
       "    .dataframe thead th {\n",
       "        text-align: right;\n",
       "    }\n",
       "</style>\n",
       "<table border=\"1\" class=\"dataframe\">\n",
       "  <thead>\n",
       "    <tr style=\"text-align: right;\">\n",
       "      <th></th>\n",
       "      <th>PassengerId</th>\n",
       "      <th>Survived</th>\n",
       "      <th>Pclass</th>\n",
       "      <th>Name</th>\n",
       "      <th>Sex</th>\n",
       "      <th>Age</th>\n",
       "      <th>SibSp</th>\n",
       "      <th>Parch</th>\n",
       "      <th>Ticket</th>\n",
       "      <th>Fare</th>\n",
       "      <th>Cabin</th>\n",
       "      <th>Embarked</th>\n",
       "    </tr>\n",
       "  </thead>\n",
       "  <tbody>\n",
       "    <tr>\n",
       "      <th>0</th>\n",
       "      <td>1</td>\n",
       "      <td>0</td>\n",
       "      <td>3</td>\n",
       "      <td>Braund, Mr. Owen Harris</td>\n",
       "      <td>male</td>\n",
       "      <td>22.0</td>\n",
       "      <td>1</td>\n",
       "      <td>0</td>\n",
       "      <td>A/5 21171</td>\n",
       "      <td>7.2500</td>\n",
       "      <td>NaN</td>\n",
       "      <td>S</td>\n",
       "    </tr>\n",
       "    <tr>\n",
       "      <th>1</th>\n",
       "      <td>2</td>\n",
       "      <td>1</td>\n",
       "      <td>1</td>\n",
       "      <td>Cumings, Mrs. John Bradley (Florence Briggs Th...</td>\n",
       "      <td>female</td>\n",
       "      <td>38.0</td>\n",
       "      <td>1</td>\n",
       "      <td>0</td>\n",
       "      <td>PC 17599</td>\n",
       "      <td>71.2833</td>\n",
       "      <td>C85</td>\n",
       "      <td>C</td>\n",
       "    </tr>\n",
       "    <tr>\n",
       "      <th>2</th>\n",
       "      <td>3</td>\n",
       "      <td>1</td>\n",
       "      <td>3</td>\n",
       "      <td>Heikkinen, Miss. Laina</td>\n",
       "      <td>female</td>\n",
       "      <td>26.0</td>\n",
       "      <td>0</td>\n",
       "      <td>0</td>\n",
       "      <td>STON/O2. 3101282</td>\n",
       "      <td>7.9250</td>\n",
       "      <td>NaN</td>\n",
       "      <td>S</td>\n",
       "    </tr>\n",
       "    <tr>\n",
       "      <th>3</th>\n",
       "      <td>4</td>\n",
       "      <td>1</td>\n",
       "      <td>1</td>\n",
       "      <td>Futrelle, Mrs. Jacques Heath (Lily May Peel)</td>\n",
       "      <td>female</td>\n",
       "      <td>35.0</td>\n",
       "      <td>1</td>\n",
       "      <td>0</td>\n",
       "      <td>113803</td>\n",
       "      <td>53.1000</td>\n",
       "      <td>C123</td>\n",
       "      <td>S</td>\n",
       "    </tr>\n",
       "    <tr>\n",
       "      <th>4</th>\n",
       "      <td>5</td>\n",
       "      <td>0</td>\n",
       "      <td>3</td>\n",
       "      <td>Allen, Mr. William Henry</td>\n",
       "      <td>male</td>\n",
       "      <td>35.0</td>\n",
       "      <td>0</td>\n",
       "      <td>0</td>\n",
       "      <td>373450</td>\n",
       "      <td>8.0500</td>\n",
       "      <td>NaN</td>\n",
       "      <td>S</td>\n",
       "    </tr>\n",
       "  </tbody>\n",
       "</table>\n",
       "</div>"
      ],
      "text/plain": [
       "   PassengerId  Survived  Pclass  \\\n",
       "0            1         0       3   \n",
       "1            2         1       1   \n",
       "2            3         1       3   \n",
       "3            4         1       1   \n",
       "4            5         0       3   \n",
       "\n",
       "                                                Name     Sex   Age  SibSp  \\\n",
       "0                            Braund, Mr. Owen Harris    male  22.0      1   \n",
       "1  Cumings, Mrs. John Bradley (Florence Briggs Th...  female  38.0      1   \n",
       "2                             Heikkinen, Miss. Laina  female  26.0      0   \n",
       "3       Futrelle, Mrs. Jacques Heath (Lily May Peel)  female  35.0      1   \n",
       "4                           Allen, Mr. William Henry    male  35.0      0   \n",
       "\n",
       "   Parch            Ticket     Fare Cabin Embarked  \n",
       "0      0         A/5 21171   7.2500   NaN        S  \n",
       "1      0          PC 17599  71.2833   C85        C  \n",
       "2      0  STON/O2. 3101282   7.9250   NaN        S  \n",
       "3      0            113803  53.1000  C123        S  \n",
       "4      0            373450   8.0500   NaN        S  "
      ]
     },
     "execution_count": 2,
     "metadata": {},
     "output_type": "execute_result"
    }
   ],
   "source": [
    "data=pd.read_csv(r\"A:\\DS ML\\Titanic Survival Prediction\\titanic.csv\")\n",
    "data.head()"
   ]
  },
  {
   "cell_type": "markdown",
   "id": "c2a1555d",
   "metadata": {},
   "source": [
    "### <u><strong>Data Description</u></strong>\n",
    "\n",
    "###### `Pclass`: Passenger Class (1 = 1st; 2 = 2nd; 3 = 3rd)\n",
    "##### `survival`: Survival (0 = No; 1 = Yes)\n",
    "##### `name`: Name\n",
    "##### `sex`: Sex\n",
    "##### `age`: Age\n",
    "##### `sibsp`: Number of Siblings/Spouses Aboard\n",
    "###### `parch`: Number of Parents/Children Aboard\n",
    "##### `ticket`: Ticket Number\n",
    "##### `fare`: Passenger Fare (British pound)\n",
    "##### `cabin`: Cabin\n",
    "##### `embarked`: Port of Embarkation (C = Cherbourg; Q = Queenstown; S = Southampton)\n",
    "\n"
   ]
  },
  {
   "cell_type": "markdown",
   "id": "7712cf68",
   "metadata": {},
   "source": [
    "## <u><strong> Data Analysis </strong></u>"
   ]
  },
  {
   "cell_type": "code",
   "execution_count": 3,
   "id": "0ad6dca9",
   "metadata": {},
   "outputs": [
    {
     "name": "stdout",
     "output_type": "stream",
     "text": [
      "<class 'pandas.core.frame.DataFrame'>\n",
      "RangeIndex: 891 entries, 0 to 890\n",
      "Data columns (total 12 columns):\n",
      " #   Column       Non-Null Count  Dtype  \n",
      "---  ------       --------------  -----  \n",
      " 0   PassengerId  891 non-null    int64  \n",
      " 1   Survived     891 non-null    int64  \n",
      " 2   Pclass       891 non-null    int64  \n",
      " 3   Name         891 non-null    object \n",
      " 4   Sex          891 non-null    object \n",
      " 5   Age          714 non-null    float64\n",
      " 6   SibSp        891 non-null    int64  \n",
      " 7   Parch        891 non-null    int64  \n",
      " 8   Ticket       891 non-null    object \n",
      " 9   Fare         891 non-null    float64\n",
      " 10  Cabin        204 non-null    object \n",
      " 11  Embarked     889 non-null    object \n",
      "dtypes: float64(2), int64(5), object(5)\n",
      "memory usage: 83.7+ KB\n"
     ]
    }
   ],
   "source": [
    "data.info()"
   ]
  },
  {
   "cell_type": "code",
   "execution_count": 4,
   "id": "6ad34391",
   "metadata": {},
   "outputs": [
    {
     "data": {
      "text/html": [
       "<div>\n",
       "<style scoped>\n",
       "    .dataframe tbody tr th:only-of-type {\n",
       "        vertical-align: middle;\n",
       "    }\n",
       "\n",
       "    .dataframe tbody tr th {\n",
       "        vertical-align: top;\n",
       "    }\n",
       "\n",
       "    .dataframe thead th {\n",
       "        text-align: right;\n",
       "    }\n",
       "</style>\n",
       "<table border=\"1\" class=\"dataframe\">\n",
       "  <thead>\n",
       "    <tr style=\"text-align: right;\">\n",
       "      <th></th>\n",
       "      <th>PassengerId</th>\n",
       "      <th>Survived</th>\n",
       "      <th>Pclass</th>\n",
       "      <th>Age</th>\n",
       "      <th>SibSp</th>\n",
       "      <th>Parch</th>\n",
       "      <th>Fare</th>\n",
       "    </tr>\n",
       "  </thead>\n",
       "  <tbody>\n",
       "    <tr>\n",
       "      <th>count</th>\n",
       "      <td>891.000000</td>\n",
       "      <td>891.000000</td>\n",
       "      <td>891.000000</td>\n",
       "      <td>714.000000</td>\n",
       "      <td>891.000000</td>\n",
       "      <td>891.000000</td>\n",
       "      <td>891.000000</td>\n",
       "    </tr>\n",
       "    <tr>\n",
       "      <th>mean</th>\n",
       "      <td>446.000000</td>\n",
       "      <td>0.383838</td>\n",
       "      <td>2.308642</td>\n",
       "      <td>29.699118</td>\n",
       "      <td>0.523008</td>\n",
       "      <td>0.381594</td>\n",
       "      <td>32.204208</td>\n",
       "    </tr>\n",
       "    <tr>\n",
       "      <th>std</th>\n",
       "      <td>257.353842</td>\n",
       "      <td>0.486592</td>\n",
       "      <td>0.836071</td>\n",
       "      <td>14.526497</td>\n",
       "      <td>1.102743</td>\n",
       "      <td>0.806057</td>\n",
       "      <td>49.693429</td>\n",
       "    </tr>\n",
       "    <tr>\n",
       "      <th>min</th>\n",
       "      <td>1.000000</td>\n",
       "      <td>0.000000</td>\n",
       "      <td>1.000000</td>\n",
       "      <td>0.420000</td>\n",
       "      <td>0.000000</td>\n",
       "      <td>0.000000</td>\n",
       "      <td>0.000000</td>\n",
       "    </tr>\n",
       "    <tr>\n",
       "      <th>25%</th>\n",
       "      <td>223.500000</td>\n",
       "      <td>0.000000</td>\n",
       "      <td>2.000000</td>\n",
       "      <td>20.125000</td>\n",
       "      <td>0.000000</td>\n",
       "      <td>0.000000</td>\n",
       "      <td>7.910400</td>\n",
       "    </tr>\n",
       "    <tr>\n",
       "      <th>50%</th>\n",
       "      <td>446.000000</td>\n",
       "      <td>0.000000</td>\n",
       "      <td>3.000000</td>\n",
       "      <td>28.000000</td>\n",
       "      <td>0.000000</td>\n",
       "      <td>0.000000</td>\n",
       "      <td>14.454200</td>\n",
       "    </tr>\n",
       "    <tr>\n",
       "      <th>75%</th>\n",
       "      <td>668.500000</td>\n",
       "      <td>1.000000</td>\n",
       "      <td>3.000000</td>\n",
       "      <td>38.000000</td>\n",
       "      <td>1.000000</td>\n",
       "      <td>0.000000</td>\n",
       "      <td>31.000000</td>\n",
       "    </tr>\n",
       "    <tr>\n",
       "      <th>max</th>\n",
       "      <td>891.000000</td>\n",
       "      <td>1.000000</td>\n",
       "      <td>3.000000</td>\n",
       "      <td>80.000000</td>\n",
       "      <td>8.000000</td>\n",
       "      <td>6.000000</td>\n",
       "      <td>512.329200</td>\n",
       "    </tr>\n",
       "  </tbody>\n",
       "</table>\n",
       "</div>"
      ],
      "text/plain": [
       "       PassengerId    Survived      Pclass         Age       SibSp  \\\n",
       "count   891.000000  891.000000  891.000000  714.000000  891.000000   \n",
       "mean    446.000000    0.383838    2.308642   29.699118    0.523008   \n",
       "std     257.353842    0.486592    0.836071   14.526497    1.102743   \n",
       "min       1.000000    0.000000    1.000000    0.420000    0.000000   \n",
       "25%     223.500000    0.000000    2.000000   20.125000    0.000000   \n",
       "50%     446.000000    0.000000    3.000000   28.000000    0.000000   \n",
       "75%     668.500000    1.000000    3.000000   38.000000    1.000000   \n",
       "max     891.000000    1.000000    3.000000   80.000000    8.000000   \n",
       "\n",
       "            Parch        Fare  \n",
       "count  891.000000  891.000000  \n",
       "mean     0.381594   32.204208  \n",
       "std      0.806057   49.693429  \n",
       "min      0.000000    0.000000  \n",
       "25%      0.000000    7.910400  \n",
       "50%      0.000000   14.454200  \n",
       "75%      0.000000   31.000000  \n",
       "max      6.000000  512.329200  "
      ]
     },
     "execution_count": 4,
     "metadata": {},
     "output_type": "execute_result"
    }
   ],
   "source": [
    "data.describe()"
   ]
  },
  {
   "cell_type": "code",
   "execution_count": 5,
   "id": "db52cc77",
   "metadata": {},
   "outputs": [
    {
     "name": "stdout",
     "output_type": "stream",
     "text": [
      "Features present in our data :\n",
      "   \n",
      "Index(['PassengerId', 'Survived', 'Pclass', 'Name', 'Sex', 'Age', 'SibSp',\n",
      "       'Parch', 'Ticket', 'Fare', 'Cabin', 'Embarked'],\n",
      "      dtype='object')\n"
     ]
    }
   ],
   "source": [
    "print('Features present in our data :')\n",
    "print('   ')\n",
    "print(data.columns)"
   ]
  },
  {
   "cell_type": "code",
   "execution_count": 6,
   "id": "21844406",
   "metadata": {},
   "outputs": [
    {
     "name": "stdout",
     "output_type": "stream",
     "text": [
      "Number of Rows and Columns in Data : (891, 12)\n"
     ]
    }
   ],
   "source": [
    "print(f'Number of Rows and Columns in Data : {data.shape}')"
   ]
  },
  {
   "cell_type": "code",
   "execution_count": 7,
   "id": "5ded81a4",
   "metadata": {
    "scrolled": true
   },
   "outputs": [],
   "source": [
    "d={}\n",
    "l=[]\n",
    "l1=[]\n",
    "\n",
    "for i in data.columns:\n",
    "    d[i]=data[i].unique()\n",
    "    l.append(data[i].nunique())\n",
    "    l1.append(data[i].isna().sum())\n",
    "    \n",
    "explain_data=pd.DataFrame(data=d.items(),columns=['Features','Unique_records'])"
   ]
  },
  {
   "cell_type": "code",
   "execution_count": 8,
   "id": "8e06c691",
   "metadata": {},
   "outputs": [],
   "source": [
    "explain_data['No_of_unique_records']=pd.Series(l)\n",
    "explain_data['No_of_missing_records']=pd.Series(l1)\n",
    "explain_data['percentage_of_missing_records']=round((explain_data['No_of_missing_records']/len(data)),2)"
   ]
  },
  {
   "cell_type": "code",
   "execution_count": 9,
   "id": "308ceb1c",
   "metadata": {
    "scrolled": true
   },
   "outputs": [
    {
     "data": {
      "text/html": [
       "<div>\n",
       "<style scoped>\n",
       "    .dataframe tbody tr th:only-of-type {\n",
       "        vertical-align: middle;\n",
       "    }\n",
       "\n",
       "    .dataframe tbody tr th {\n",
       "        vertical-align: top;\n",
       "    }\n",
       "\n",
       "    .dataframe thead th {\n",
       "        text-align: right;\n",
       "    }\n",
       "</style>\n",
       "<table border=\"1\" class=\"dataframe\">\n",
       "  <thead>\n",
       "    <tr style=\"text-align: right;\">\n",
       "      <th></th>\n",
       "      <th>Features</th>\n",
       "      <th>Unique_records</th>\n",
       "      <th>No_of_unique_records</th>\n",
       "      <th>No_of_missing_records</th>\n",
       "      <th>percentage_of_missing_records</th>\n",
       "    </tr>\n",
       "  </thead>\n",
       "  <tbody>\n",
       "    <tr>\n",
       "      <th>0</th>\n",
       "      <td>PassengerId</td>\n",
       "      <td>[1, 2, 3, 4, 5, 6, 7, 8, 9, 10, 11, 12, 13, 14...</td>\n",
       "      <td>891</td>\n",
       "      <td>0</td>\n",
       "      <td>0.00</td>\n",
       "    </tr>\n",
       "    <tr>\n",
       "      <th>1</th>\n",
       "      <td>Survived</td>\n",
       "      <td>[0, 1]</td>\n",
       "      <td>2</td>\n",
       "      <td>0</td>\n",
       "      <td>0.00</td>\n",
       "    </tr>\n",
       "    <tr>\n",
       "      <th>2</th>\n",
       "      <td>Pclass</td>\n",
       "      <td>[3, 1, 2]</td>\n",
       "      <td>3</td>\n",
       "      <td>0</td>\n",
       "      <td>0.00</td>\n",
       "    </tr>\n",
       "    <tr>\n",
       "      <th>3</th>\n",
       "      <td>Name</td>\n",
       "      <td>[Braund, Mr. Owen Harris, Cumings, Mrs. John B...</td>\n",
       "      <td>891</td>\n",
       "      <td>0</td>\n",
       "      <td>0.00</td>\n",
       "    </tr>\n",
       "    <tr>\n",
       "      <th>4</th>\n",
       "      <td>Sex</td>\n",
       "      <td>[male, female]</td>\n",
       "      <td>2</td>\n",
       "      <td>0</td>\n",
       "      <td>0.00</td>\n",
       "    </tr>\n",
       "    <tr>\n",
       "      <th>5</th>\n",
       "      <td>Age</td>\n",
       "      <td>[22.0, 38.0, 26.0, 35.0, nan, 54.0, 2.0, 27.0,...</td>\n",
       "      <td>88</td>\n",
       "      <td>177</td>\n",
       "      <td>0.20</td>\n",
       "    </tr>\n",
       "    <tr>\n",
       "      <th>6</th>\n",
       "      <td>SibSp</td>\n",
       "      <td>[1, 0, 3, 4, 2, 5, 8]</td>\n",
       "      <td>7</td>\n",
       "      <td>0</td>\n",
       "      <td>0.00</td>\n",
       "    </tr>\n",
       "    <tr>\n",
       "      <th>7</th>\n",
       "      <td>Parch</td>\n",
       "      <td>[0, 1, 2, 5, 3, 4, 6]</td>\n",
       "      <td>7</td>\n",
       "      <td>0</td>\n",
       "      <td>0.00</td>\n",
       "    </tr>\n",
       "    <tr>\n",
       "      <th>8</th>\n",
       "      <td>Ticket</td>\n",
       "      <td>[A/5 21171, PC 17599, STON/O2. 3101282, 113803...</td>\n",
       "      <td>681</td>\n",
       "      <td>0</td>\n",
       "      <td>0.00</td>\n",
       "    </tr>\n",
       "    <tr>\n",
       "      <th>9</th>\n",
       "      <td>Fare</td>\n",
       "      <td>[7.25, 71.2833, 7.925, 53.1, 8.05, 8.4583, 51....</td>\n",
       "      <td>248</td>\n",
       "      <td>0</td>\n",
       "      <td>0.00</td>\n",
       "    </tr>\n",
       "    <tr>\n",
       "      <th>10</th>\n",
       "      <td>Cabin</td>\n",
       "      <td>[nan, C85, C123, E46, G6, C103, D56, A6, C23 C...</td>\n",
       "      <td>147</td>\n",
       "      <td>687</td>\n",
       "      <td>0.77</td>\n",
       "    </tr>\n",
       "    <tr>\n",
       "      <th>11</th>\n",
       "      <td>Embarked</td>\n",
       "      <td>[S, C, Q, nan]</td>\n",
       "      <td>3</td>\n",
       "      <td>2</td>\n",
       "      <td>0.00</td>\n",
       "    </tr>\n",
       "  </tbody>\n",
       "</table>\n",
       "</div>"
      ],
      "text/plain": [
       "       Features                                     Unique_records  \\\n",
       "0   PassengerId  [1, 2, 3, 4, 5, 6, 7, 8, 9, 10, 11, 12, 13, 14...   \n",
       "1      Survived                                             [0, 1]   \n",
       "2        Pclass                                          [3, 1, 2]   \n",
       "3          Name  [Braund, Mr. Owen Harris, Cumings, Mrs. John B...   \n",
       "4           Sex                                     [male, female]   \n",
       "5           Age  [22.0, 38.0, 26.0, 35.0, nan, 54.0, 2.0, 27.0,...   \n",
       "6         SibSp                              [1, 0, 3, 4, 2, 5, 8]   \n",
       "7         Parch                              [0, 1, 2, 5, 3, 4, 6]   \n",
       "8        Ticket  [A/5 21171, PC 17599, STON/O2. 3101282, 113803...   \n",
       "9          Fare  [7.25, 71.2833, 7.925, 53.1, 8.05, 8.4583, 51....   \n",
       "10        Cabin  [nan, C85, C123, E46, G6, C103, D56, A6, C23 C...   \n",
       "11     Embarked                                     [S, C, Q, nan]   \n",
       "\n",
       "    No_of_unique_records  No_of_missing_records  percentage_of_missing_records  \n",
       "0                    891                      0                           0.00  \n",
       "1                      2                      0                           0.00  \n",
       "2                      3                      0                           0.00  \n",
       "3                    891                      0                           0.00  \n",
       "4                      2                      0                           0.00  \n",
       "5                     88                    177                           0.20  \n",
       "6                      7                      0                           0.00  \n",
       "7                      7                      0                           0.00  \n",
       "8                    681                      0                           0.00  \n",
       "9                    248                      0                           0.00  \n",
       "10                   147                    687                           0.77  \n",
       "11                     3                      2                           0.00  "
      ]
     },
     "execution_count": 9,
     "metadata": {},
     "output_type": "execute_result"
    }
   ],
   "source": [
    "explain_data"
   ]
  },
  {
   "cell_type": "code",
   "execution_count": 10,
   "id": "56dbb52f",
   "metadata": {},
   "outputs": [],
   "source": [
    "cat_cols=[col for col in data.columns if data[col].dtype=='O']\n",
    "num_cols=[col for col in data.columns if data[col].dtype!='O']"
   ]
  },
  {
   "cell_type": "code",
   "execution_count": 11,
   "id": "e05494ba",
   "metadata": {},
   "outputs": [
    {
     "name": "stdout",
     "output_type": "stream",
     "text": [
      "Number of Categorical Columns : 5\n",
      "   \n",
      "Number of Numerical Columns : 7\n"
     ]
    }
   ],
   "source": [
    "print(f'Number of Categorical Columns : {len(cat_cols)}')\n",
    "print('   ')\n",
    "print(f'Number of Numerical Columns : {len(num_cols)}')"
   ]
  },
  {
   "cell_type": "code",
   "execution_count": 12,
   "id": "3df509b3",
   "metadata": {},
   "outputs": [],
   "source": [
    "## making copy of the original dataset \n",
    "\n",
    "df=data.copy()"
   ]
  },
  {
   "cell_type": "markdown",
   "id": "1c812067",
   "metadata": {},
   "source": [
    "## <u><strong> Feature Engineering-1 </strong></u>"
   ]
  },
  {
   "cell_type": "code",
   "execution_count": 13,
   "id": "8243c670",
   "metadata": {},
   "outputs": [
    {
     "name": "stdout",
     "output_type": "stream",
     "text": [
      "<class 'pandas.core.frame.DataFrame'>\n",
      "RangeIndex: 891 entries, 0 to 890\n",
      "Data columns (total 12 columns):\n",
      " #   Column       Non-Null Count  Dtype  \n",
      "---  ------       --------------  -----  \n",
      " 0   PassengerId  891 non-null    int64  \n",
      " 1   Survived     891 non-null    int64  \n",
      " 2   Pclass       891 non-null    int64  \n",
      " 3   Name         891 non-null    object \n",
      " 4   Sex          891 non-null    object \n",
      " 5   Age          714 non-null    float64\n",
      " 6   SibSp        891 non-null    int64  \n",
      " 7   Parch        891 non-null    int64  \n",
      " 8   Ticket       891 non-null    object \n",
      " 9   Fare         891 non-null    float64\n",
      " 10  Cabin        204 non-null    object \n",
      " 11  Embarked     889 non-null    object \n",
      "dtypes: float64(2), int64(5), object(5)\n",
      "memory usage: 83.7+ KB\n"
     ]
    }
   ],
   "source": [
    "df.info()"
   ]
  },
  {
   "cell_type": "code",
   "execution_count": 14,
   "id": "39523608",
   "metadata": {},
   "outputs": [],
   "source": [
    "df['No_of_family_members']=df['SibSp']+df['Parch']"
   ]
  },
  {
   "cell_type": "code",
   "execution_count": 15,
   "id": "fae38346",
   "metadata": {},
   "outputs": [],
   "source": [
    "def cabinType(x):\n",
    "    try:\n",
    "        return x[0]\n",
    "    except:\n",
    "        return np.NaN\n",
    "        \n",
    "        \n",
    "df['Cabin_type']=df['Cabin'].apply(cabinType)"
   ]
  },
  {
   "cell_type": "code",
   "execution_count": 16,
   "id": "2de92261",
   "metadata": {},
   "outputs": [],
   "source": [
    "def is_married(x):\n",
    "    l=x.split(\" \")[1]\n",
    "    if l=='Mr.' or l=='Mrs.':\n",
    "        return 1\n",
    "    else:\n",
    "        return 0\n",
    "    \n",
    "df['Is_Married']=df['Name'].apply(is_married)    "
   ]
  },
  {
   "cell_type": "code",
   "execution_count": 17,
   "id": "89234c66",
   "metadata": {},
   "outputs": [],
   "source": [
    "## droping columns \n",
    "df.drop(labels=['Parch','SibSp','Cabin','PassengerId','Name','Ticket'],axis=1,inplace=True)"
   ]
  },
  {
   "cell_type": "code",
   "execution_count": 18,
   "id": "36640ee9",
   "metadata": {
    "scrolled": true
   },
   "outputs": [
    {
     "data": {
      "text/html": [
       "<div>\n",
       "<style scoped>\n",
       "    .dataframe tbody tr th:only-of-type {\n",
       "        vertical-align: middle;\n",
       "    }\n",
       "\n",
       "    .dataframe tbody tr th {\n",
       "        vertical-align: top;\n",
       "    }\n",
       "\n",
       "    .dataframe thead th {\n",
       "        text-align: right;\n",
       "    }\n",
       "</style>\n",
       "<table border=\"1\" class=\"dataframe\">\n",
       "  <thead>\n",
       "    <tr style=\"text-align: right;\">\n",
       "      <th></th>\n",
       "      <th>Features</th>\n",
       "      <th>Unique_records</th>\n",
       "      <th>No_of_unique_records</th>\n",
       "      <th>No_of_missing_records</th>\n",
       "      <th>percentage_of_missing_records</th>\n",
       "    </tr>\n",
       "  </thead>\n",
       "  <tbody>\n",
       "    <tr>\n",
       "      <th>0</th>\n",
       "      <td>Survived</td>\n",
       "      <td>[0, 1]</td>\n",
       "      <td>2</td>\n",
       "      <td>0</td>\n",
       "      <td>0.00</td>\n",
       "    </tr>\n",
       "    <tr>\n",
       "      <th>1</th>\n",
       "      <td>Pclass</td>\n",
       "      <td>[3, 1, 2]</td>\n",
       "      <td>3</td>\n",
       "      <td>0</td>\n",
       "      <td>0.00</td>\n",
       "    </tr>\n",
       "    <tr>\n",
       "      <th>2</th>\n",
       "      <td>Sex</td>\n",
       "      <td>[male, female]</td>\n",
       "      <td>2</td>\n",
       "      <td>0</td>\n",
       "      <td>0.00</td>\n",
       "    </tr>\n",
       "    <tr>\n",
       "      <th>3</th>\n",
       "      <td>Age</td>\n",
       "      <td>[22.0, 38.0, 26.0, 35.0, nan, 54.0, 2.0, 27.0,...</td>\n",
       "      <td>88</td>\n",
       "      <td>177</td>\n",
       "      <td>0.20</td>\n",
       "    </tr>\n",
       "    <tr>\n",
       "      <th>4</th>\n",
       "      <td>Fare</td>\n",
       "      <td>[7.25, 71.2833, 7.925, 53.1, 8.05, 8.4583, 51....</td>\n",
       "      <td>248</td>\n",
       "      <td>0</td>\n",
       "      <td>0.00</td>\n",
       "    </tr>\n",
       "    <tr>\n",
       "      <th>5</th>\n",
       "      <td>Embarked</td>\n",
       "      <td>[S, C, Q, nan]</td>\n",
       "      <td>3</td>\n",
       "      <td>2</td>\n",
       "      <td>0.00</td>\n",
       "    </tr>\n",
       "    <tr>\n",
       "      <th>6</th>\n",
       "      <td>No_of_family_members</td>\n",
       "      <td>[1, 0, 4, 2, 6, 5, 3, 7, 10]</td>\n",
       "      <td>9</td>\n",
       "      <td>0</td>\n",
       "      <td>0.00</td>\n",
       "    </tr>\n",
       "    <tr>\n",
       "      <th>7</th>\n",
       "      <td>Cabin_type</td>\n",
       "      <td>[nan, C, E, G, D, A, B, F, T]</td>\n",
       "      <td>8</td>\n",
       "      <td>687</td>\n",
       "      <td>0.77</td>\n",
       "    </tr>\n",
       "    <tr>\n",
       "      <th>8</th>\n",
       "      <td>Is_Married</td>\n",
       "      <td>[1, 0]</td>\n",
       "      <td>2</td>\n",
       "      <td>0</td>\n",
       "      <td>0.00</td>\n",
       "    </tr>\n",
       "  </tbody>\n",
       "</table>\n",
       "</div>"
      ],
      "text/plain": [
       "               Features                                     Unique_records  \\\n",
       "0              Survived                                             [0, 1]   \n",
       "1                Pclass                                          [3, 1, 2]   \n",
       "2                   Sex                                     [male, female]   \n",
       "3                   Age  [22.0, 38.0, 26.0, 35.0, nan, 54.0, 2.0, 27.0,...   \n",
       "4                  Fare  [7.25, 71.2833, 7.925, 53.1, 8.05, 8.4583, 51....   \n",
       "5              Embarked                                     [S, C, Q, nan]   \n",
       "6  No_of_family_members                       [1, 0, 4, 2, 6, 5, 3, 7, 10]   \n",
       "7            Cabin_type                      [nan, C, E, G, D, A, B, F, T]   \n",
       "8            Is_Married                                             [1, 0]   \n",
       "\n",
       "   No_of_unique_records  No_of_missing_records  percentage_of_missing_records  \n",
       "0                     2                      0                           0.00  \n",
       "1                     3                      0                           0.00  \n",
       "2                     2                      0                           0.00  \n",
       "3                    88                    177                           0.20  \n",
       "4                   248                      0                           0.00  \n",
       "5                     3                      2                           0.00  \n",
       "6                     9                      0                           0.00  \n",
       "7                     8                    687                           0.77  \n",
       "8                     2                      0                           0.00  "
      ]
     },
     "execution_count": 18,
     "metadata": {},
     "output_type": "execute_result"
    }
   ],
   "source": [
    "d={}\n",
    "l=[]\n",
    "l1=[]\n",
    "\n",
    "for i in df.columns:\n",
    "    d[i]=df[i].unique()\n",
    "    l.append(df[i].nunique())\n",
    "    l1.append(df[i].isna().sum())\n",
    "    \n",
    "explain_df=pd.DataFrame(data=d.items(),columns=['Features','Unique_records'])\n",
    "\n",
    "explain_df['No_of_unique_records']=pd.Series(l)\n",
    "explain_df['No_of_missing_records']=pd.Series(l1)\n",
    "explain_df['percentage_of_missing_records']=round((explain_df['No_of_missing_records']/len(df)),2)\n",
    "\n",
    "\n",
    "\n",
    "explain_df"
   ]
  },
  {
   "cell_type": "code",
   "execution_count": 19,
   "id": "a4cd5eb3",
   "metadata": {},
   "outputs": [],
   "source": [
    "cat_cols=[col for col in df.columns if df[col].dtype=='O']\n",
    "num_cols=[col for col in df.columns if df[col].dtype!='O']"
   ]
  },
  {
   "cell_type": "code",
   "execution_count": 20,
   "id": "afbde010",
   "metadata": {
    "scrolled": true
   },
   "outputs": [
    {
     "name": "stdout",
     "output_type": "stream",
     "text": [
      "Categorical Columns : ['Sex', 'Embarked', 'Cabin_type']\n",
      "  \n",
      "Numerical Columns : ['Survived', 'Pclass', 'Age', 'Fare', 'No_of_family_members', 'Is_Married']\n"
     ]
    }
   ],
   "source": [
    "print(f'Categorical Columns : {cat_cols}')\n",
    "print('  ' )\n",
    "print(f'Numerical Columns : {num_cols}')"
   ]
  },
  {
   "cell_type": "code",
   "execution_count": 21,
   "id": "a8a85c75",
   "metadata": {},
   "outputs": [
    {
     "name": "stdout",
     "output_type": "stream",
     "text": [
      "Survived\n",
      "0    549\n",
      "1    342\n",
      "Name: Survived, dtype: int64\n",
      "   \n",
      "Pclass\n",
      "3    491\n",
      "1    216\n",
      "2    184\n",
      "Name: Pclass, dtype: int64\n",
      "   \n",
      "Sex\n",
      "male      577\n",
      "female    314\n",
      "Name: Sex, dtype: int64\n",
      "   \n",
      "Embarked\n",
      "S    644\n",
      "C    168\n",
      "Q     77\n",
      "Name: Embarked, dtype: int64\n",
      "   \n",
      "No_of_family_members\n",
      "0     537\n",
      "1     161\n",
      "2     102\n",
      "3      29\n",
      "5      22\n",
      "4      15\n",
      "6      12\n",
      "10      7\n",
      "7       6\n",
      "Name: No_of_family_members, dtype: int64\n",
      "   \n",
      "Cabin_type\n",
      "C    59\n",
      "B    47\n",
      "D    33\n",
      "E    32\n",
      "A    15\n",
      "F    13\n",
      "G     4\n",
      "T     1\n",
      "Name: Cabin_type, dtype: int64\n",
      "   \n",
      "Is_Married\n",
      "1    623\n",
      "0    268\n",
      "Name: Is_Married, dtype: int64\n",
      "   \n"
     ]
    }
   ],
   "source": [
    "for i in df.columns:\n",
    "    if df[i].nunique()>=10:\n",
    "        pass\n",
    "    else:\n",
    "        print(f'{i}')\n",
    "        x=df[i].value_counts().sort_values(ascending=False)\n",
    "        print(x)\n",
    "        print('   ')"
   ]
  },
  {
   "cell_type": "markdown",
   "id": "deb1652d",
   "metadata": {},
   "source": [
    "###### ---------------------------------------------------------------------------------------------------------------------------------------------------------------\n",
    "\n",
    "## <u><strong>Data Vizulaization</strong></u>"
   ]
  },
  {
   "cell_type": "code",
   "execution_count": 22,
   "id": "c324d131",
   "metadata": {},
   "outputs": [
    {
     "data": {
      "image/png": "[encoded data removed]",
      "text/plain": [
       "<Figure size 864x360 with 1 Axes>"
      ]
     },
     "metadata": {
      "needs_background": "light"
     },
     "output_type": "display_data"
    },
    {
     "data": {
      "image/png": "[encoded data removed]",
      "text/plain": [
       "<Figure size 864x360 with 1 Axes>"
      ]
     },
     "metadata": {
      "needs_background": "light"
     },
     "output_type": "display_data"
    },
    {
     "data": {
      "image/png": "[encoded data removed]",
      "text/plain": [
       "<Figure size 864x360 with 1 Axes>"
      ]
     },
     "metadata": {
      "needs_background": "light"
     },
     "output_type": "display_data"
    }
   ],
   "source": [
    "for i in cat_cols:\n",
    "    plt.figure(figsize=(12,5))\n",
    "    df[i].value_counts().sort_values(ascending=False).plot.bar()"
   ]
  },
  {
   "cell_type": "code",
   "execution_count": 23,
   "id": "9cd1c1e6",
   "metadata": {},
   "outputs": [
    {
     "data": {
      "text/plain": [
       "<AxesSubplot:xlabel='Age', ylabel='Count'>"
      ]
     },
     "execution_count": 23,
     "metadata": {},
     "output_type": "execute_result"
    },
    {
     "data": {
      "image/png": "[encoded data removed]",
      "text/plain": [
       "<Figure size 720x432 with 1 Axes>"
      ]
     },
     "metadata": {
      "needs_background": "light"
     },
     "output_type": "display_data"
    }
   ],
   "source": [
    "plt.figure(figsize=(10,6))\n",
    "sns.histplot(df['Age'],kde=True)"
   ]
  },
  {
   "cell_type": "code",
   "execution_count": 24,
   "id": "68928097",
   "metadata": {},
   "outputs": [
    {
     "data": {
      "text/plain": [
       "<AxesSubplot:xlabel='No_of_family_members', ylabel='count'>"
      ]
     },
     "execution_count": 24,
     "metadata": {},
     "output_type": "execute_result"
    },
    {
     "data": {
      "image/png": "[encoded data removed]",
      "text/plain": [
       "<Figure size 720x432 with 1 Axes>"
      ]
     },
     "metadata": {
      "needs_background": "light"
     },
     "output_type": "display_data"
    }
   ],
   "source": [
    "plt.figure(figsize=(10,6))\n",
    "sns.countplot(x='No_of_family_members',data=df)"
   ]
  },
  {
   "cell_type": "code",
   "execution_count": 25,
   "id": "9f1c6e7b",
   "metadata": {
    "scrolled": true
   },
   "outputs": [
    {
     "data": {
      "text/plain": [
       "<AxesSubplot:xlabel='Fare'>"
      ]
     },
     "execution_count": 25,
     "metadata": {},
     "output_type": "execute_result"
    },
    {
     "data": {
      "image/png": "[encoded data removed]",
      "text/plain": [
       "<Figure size 720x432 with 1 Axes>"
      ]
     },
     "metadata": {
      "needs_background": "light"
     },
     "output_type": "display_data"
    }
   ],
   "source": [
    "plt.figure(figsize=(10,6))\n",
    "sns.boxplot(x=df['Fare'])"
   ]
  },
  {
   "cell_type": "code",
   "execution_count": 26,
   "id": "c45a8cab",
   "metadata": {
    "scrolled": true
   },
   "outputs": [
    {
     "data": {
      "text/plain": [
       "<AxesSubplot:xlabel='Pclass', ylabel='count'>"
      ]
     },
     "execution_count": 26,
     "metadata": {},
     "output_type": "execute_result"
    },
    {
     "data": {
      "image/png": "[encoded data removed]",
      "text/plain": [
       "<Figure size 720x432 with 1 Axes>"
      ]
     },
     "metadata": {
      "needs_background": "light"
     },
     "output_type": "display_data"
    }
   ],
   "source": [
    "plt.figure(figsize=(10,6))\n",
    "sns.countplot(x='Pclass',data=df)"
   ]
  },
  {
   "cell_type": "code",
   "execution_count": 27,
   "id": "9034f994",
   "metadata": {},
   "outputs": [
    {
     "data": {
      "text/plain": [
       "<AxesSubplot:xlabel='Is_Married', ylabel='count'>"
      ]
     },
     "execution_count": 27,
     "metadata": {},
     "output_type": "execute_result"
    },
    {
     "data": {
      "image/png": "[encoded data removed]",
      "text/plain": [
       "<Figure size 720x432 with 1 Axes>"
      ]
     },
     "metadata": {
      "needs_background": "light"
     },
     "output_type": "display_data"
    }
   ],
   "source": [
    "plt.figure(figsize=(10,6))\n",
    "sns.countplot(x='Is_Married',data=df)"
   ]
  },
  {
   "cell_type": "markdown",
   "id": "0744c9b8",
   "metadata": {},
   "source": [
    "#### Maximum number of passengers in titanic was from `3rd class`\n",
    "\n",
    "#### Only `33.94%` of the passengers survived \n",
    "\n",
    "#### `64%` of the total pasangers were `Male` \n",
    "\n",
    "#### Most of the pasengers belongs to `15-35` years age group\n",
    "\n",
    "#### Maximum people were travelling `Solo`\n",
    "\n",
    "#### most of the passengers are in `S` embarked \n",
    "\n",
    "#### More than `50%` of passengers were in Cabin` B` and `C` \n",
    "\n",
    "#### `T` has the least number of passenger\n",
    "\n",
    "#### Approx `70%` of the passengers were `Married` \n",
    "\n",
    "###### ---------------------------------------------------------------------------------------------------------------------------------------------------------------"
   ]
  },
  {
   "cell_type": "markdown",
   "id": "b54d6338",
   "metadata": {},
   "source": [
    "## <u><em>Bi-variate Analysis</u></em>"
   ]
  },
  {
   "cell_type": "code",
   "execution_count": 28,
   "id": "ade1b78f",
   "metadata": {},
   "outputs": [
    {
     "data": {
      "text/plain": [
       "<AxesSubplot:xlabel='Pclass', ylabel='count'>"
      ]
     },
     "execution_count": 28,
     "metadata": {},
     "output_type": "execute_result"
    },
    {
     "data": {
      "image/png": "[encoded data removed]",
      "text/plain": [
       "<Figure size 720x432 with 1 Axes>"
      ]
     },
     "metadata": {
      "needs_background": "light"
     },
     "output_type": "display_data"
    }
   ],
   "source": [
    "plt.figure(figsize=(10,6))\n",
    "sns.countplot(x='Pclass',data=df,hue='Survived')"
   ]
  },
  {
   "cell_type": "code",
   "execution_count": 29,
   "id": "4c917f97",
   "metadata": {},
   "outputs": [
    {
     "data": {
      "text/plain": [
       "<AxesSubplot:xlabel='Sex', ylabel='count'>"
      ]
     },
     "execution_count": 29,
     "metadata": {},
     "output_type": "execute_result"
    },
    {
     "data": {
      "image/png": "[encoded data removed]",
      "text/plain": [
       "<Figure size 720x432 with 1 Axes>"
      ]
     },
     "metadata": {
      "needs_background": "light"
     },
     "output_type": "display_data"
    }
   ],
   "source": [
    "plt.figure(figsize=(10,6))\n",
    "sns.countplot(x='Sex',data=df,hue=\"Survived\")"
   ]
  },
  {
   "cell_type": "code",
   "execution_count": 30,
   "id": "ddd6c0b5",
   "metadata": {},
   "outputs": [
    {
     "data": {
      "text/plain": [
       "<AxesSubplot:xlabel='Embarked', ylabel='count'>"
      ]
     },
     "execution_count": 30,
     "metadata": {},
     "output_type": "execute_result"
    },
    {
     "data": {
      "image/png": "[encoded data removed]",
      "text/plain": [
       "<Figure size 720x432 with 1 Axes>"
      ]
     },
     "metadata": {
      "needs_background": "light"
     },
     "output_type": "display_data"
    }
   ],
   "source": [
    "plt.figure(figsize=(10,6))\n",
    "sns.countplot(x='Embarked',data=df,hue='Survived')"
   ]
  },
  {
   "cell_type": "code",
   "execution_count": 31,
   "id": "25105ae6",
   "metadata": {},
   "outputs": [
    {
     "data": {
      "text/plain": [
       "<AxesSubplot:xlabel='Is_Married', ylabel='count'>"
      ]
     },
     "execution_count": 31,
     "metadata": {},
     "output_type": "execute_result"
    },
    {
     "data": {
      "image/png": "[encoded data removed]",
      "text/plain": [
       "<Figure size 720x432 with 1 Axes>"
      ]
     },
     "metadata": {
      "needs_background": "light"
     },
     "output_type": "display_data"
    }
   ],
   "source": [
    "plt.figure(figsize=(10,6))\n",
    "sns.countplot(x='Is_Married',data=df,hue='Survived')"
   ]
  },
  {
   "cell_type": "code",
   "execution_count": 32,
   "id": "26aeedb3",
   "metadata": {},
   "outputs": [
    {
     "data": {
      "text/plain": [
       "<AxesSubplot:xlabel='Cabin_type', ylabel='count'>"
      ]
     },
     "execution_count": 32,
     "metadata": {},
     "output_type": "execute_result"
    },
    {
     "data": {
      "image/png": "[encoded data removed]",
      "text/plain": [
       "<Figure size 720x432 with 1 Axes>"
      ]
     },
     "metadata": {
      "needs_background": "light"
     },
     "output_type": "display_data"
    }
   ],
   "source": [
    "plt.figure(figsize=(10,6))\n",
    "sns.countplot(x='Cabin_type',data=df,hue='Survived')"
   ]
  },
  {
   "cell_type": "code",
   "execution_count": 33,
   "id": "a00a7eaa",
   "metadata": {},
   "outputs": [
    {
     "data": {
      "text/plain": [
       "<AxesSubplot:xlabel='Is_Married', ylabel='count'>"
      ]
     },
     "execution_count": 33,
     "metadata": {},
     "output_type": "execute_result"
    },
    {
     "data": {
      "image/png": "[encoded data removed]",
      "text/plain": [
       "<Figure size 720x432 with 1 Axes>"
      ]
     },
     "metadata": {
      "needs_background": "light"
     },
     "output_type": "display_data"
    }
   ],
   "source": [
    "plt.figure(figsize=(10,6))\n",
    "sns.countplot(x='Is_Married',data=df,hue='Survived')"
   ]
  },
  {
   "cell_type": "code",
   "execution_count": 34,
   "id": "ea2df1d5",
   "metadata": {},
   "outputs": [
    {
     "data": {
      "text/plain": [
       "<AxesSubplot:xlabel='Survived', ylabel='Age'>"
      ]
     },
     "execution_count": 34,
     "metadata": {},
     "output_type": "execute_result"
    },
    {
     "data": {
      "image/png": "[encoded data removed]",
      "text/plain": [
       "<Figure size 720x432 with 1 Axes>"
      ]
     },
     "metadata": {
      "needs_background": "light"
     },
     "output_type": "display_data"
    }
   ],
   "source": [
    "plt.figure(figsize=(10,6))\n",
    "sns.boxplot(y='Age',data=df,x='Survived')"
   ]
  },
  {
   "cell_type": "code",
   "execution_count": 35,
   "id": "a32063d0",
   "metadata": {},
   "outputs": [
    {
     "data": {
      "text/plain": [
       "<AxesSubplot:xlabel='No_of_family_members', ylabel='count'>"
      ]
     },
     "execution_count": 35,
     "metadata": {},
     "output_type": "execute_result"
    },
    {
     "data": {
      "image/png": "[encoded data removed]",
      "text/plain": [
       "<Figure size 720x432 with 1 Axes>"
      ]
     },
     "metadata": {
      "needs_background": "light"
     },
     "output_type": "display_data"
    }
   ],
   "source": [
    "plt.figure(figsize=(10,6))\n",
    "sns.countplot(x='No_of_family_members',data=df,hue='Survived')"
   ]
  },
  {
   "cell_type": "code",
   "execution_count": 36,
   "id": "9ca97efd",
   "metadata": {},
   "outputs": [
    {
     "data": {
      "text/plain": [
       "<AxesSubplot:xlabel='Survived', ylabel='Fare'>"
      ]
     },
     "execution_count": 36,
     "metadata": {},
     "output_type": "execute_result"
    },
    {
     "data": {
      "image/png": "[encoded data removed]",
      "text/plain": [
       "<Figure size 720x432 with 1 Axes>"
      ]
     },
     "metadata": {
      "needs_background": "light"
     },
     "output_type": "display_data"
    }
   ],
   "source": [
    "plt.figure(figsize=(10,6))\n",
    "sns.boxplot(y='Fare',data=df,x='Survived')"
   ]
  },
  {
   "cell_type": "markdown",
   "id": "f82507c0",
   "metadata": {},
   "source": [
    "#### Passengers in `C` emabarked has highest survival rate\n",
    "\n",
    "#### `Females` has more survival rate than man\n",
    "\n",
    "#### People with `1 companion` aboard has more survival rate than others \n",
    "\n",
    "#### most of the people who survived are from `1st class` and maximum number of people died were from `3rd class`\n",
    "\n",
    "#### Married Passengers had `less` chance of surviving\n",
    "\n",
    "#### Passenger travelling with upto `3 members` had more chances of survivng \n",
    "\n",
    "#### "
   ]
  },
  {
   "cell_type": "markdown",
   "id": "96e24c59",
   "metadata": {},
   "source": [
    "## --------------------------------------------------------------------------------------------------------"
   ]
  },
  {
   "cell_type": "markdown",
   "id": "dde3cc93",
   "metadata": {},
   "source": [
    "## <u><strong> Data PreProcessing </strong></u>"
   ]
  },
  {
   "cell_type": "code",
   "execution_count": 37,
   "id": "ec25abd1",
   "metadata": {},
   "outputs": [],
   "source": [
    "df.to_csv(r\"A:\\DS ML\\Titanic Survival Prediction\\new_df.csv\")"
   ]
  },
  {
   "cell_type": "markdown",
   "id": "5c7d2391",
   "metadata": {},
   "source": [
    "### <em> Filling mising Values </em>"
   ]
  },
  {
   "cell_type": "code",
   "execution_count": 38,
   "id": "e819b7f9",
   "metadata": {},
   "outputs": [],
   "source": [
    "age=df['Age'].mean()\n",
    "cabin='C'\n",
    "\n",
    "df['Age'].fillna(value=age,inplace=True)\n",
    "df['Cabin_type'].fillna(value=cabin,inplace=True)"
   ]
  },
  {
   "cell_type": "code",
   "execution_count": 39,
   "id": "503297f5",
   "metadata": {},
   "outputs": [
    {
     "data": {
      "text/plain": [
       "Survived                0\n",
       "Pclass                  0\n",
       "Sex                     0\n",
       "Age                     0\n",
       "Fare                    0\n",
       "Embarked                2\n",
       "No_of_family_members    0\n",
       "Cabin_type              0\n",
       "Is_Married              0\n",
       "dtype: int64"
      ]
     },
     "execution_count": 39,
     "metadata": {},
     "output_type": "execute_result"
    }
   ],
   "source": [
    "df.isna().sum()"
   ]
  },
  {
   "cell_type": "markdown",
   "id": "1a497a14",
   "metadata": {},
   "source": [
    "### <em> Dealing with Outliers </em>"
   ]
  },
  {
   "cell_type": "code",
   "execution_count": 40,
   "id": "4369af11",
   "metadata": {},
   "outputs": [],
   "source": [
    "def limits(x):\n",
    "    x=sorted(x)\n",
    "    Q1,Q3=np.percentile(x,[25,75])\n",
    "    IQR=Q3-Q1\n",
    "    \n",
    "    up=Q3+(1.5*IQR)\n",
    "    low=Q1-(1.5*IQR)\n",
    "    if low<0:\n",
    "        low=0\n",
    "    \n",
    "    return low,up"
   ]
  },
  {
   "cell_type": "code",
   "execution_count": 41,
   "id": "b502523a",
   "metadata": {},
   "outputs": [],
   "source": [
    "age_low,age_up=limits(df['Age'])"
   ]
  },
  {
   "cell_type": "code",
   "execution_count": 42,
   "id": "85fc603d",
   "metadata": {},
   "outputs": [],
   "source": [
    "fare_low,fare_up=limits(df['Fare'])"
   ]
  },
  {
   "cell_type": "code",
   "execution_count": 43,
   "id": "43c65b87",
   "metadata": {},
   "outputs": [
    {
     "name": "stdout",
     "output_type": "stream",
     "text": [
      "Lower and upper limit of Age : (2.5, 54.5)\n",
      "\n",
      "Lower and upper limit of Fare : (0, 65.6344)\n"
     ]
    }
   ],
   "source": [
    "print(f'Lower and upper limit of Age : {age_low,age_up}')\n",
    "print('')\n",
    "print(f'Lower and upper limit of Fare : {fare_low,fare_up}')"
   ]
  },
  {
   "cell_type": "code",
   "execution_count": 44,
   "id": "fe677cc9",
   "metadata": {},
   "outputs": [],
   "source": [
    "df['Age'] = np.where(\n",
    "    df['Age'] > age_up,\n",
    "    age_up,\n",
    "    np.where(\n",
    "        df['Age'] < age_low,\n",
    "        age_low,\n",
    "        df['Age']\n",
    "    )\n",
    ")\n",
    "\n",
    "df['Fare'] = np.where(\n",
    "    df['Fare'] > fare_up,\n",
    "    fare_up,\n",
    "    np.where(\n",
    "        df['Fare'] < fare_low,\n",
    "        fare_low,\n",
    "        df['Fare']\n",
    "    )\n",
    ")"
   ]
  },
  {
   "cell_type": "markdown",
   "id": "66fca281",
   "metadata": {},
   "source": [
    "## <u><strong> Feature Engineering-2 </strong></u>"
   ]
  },
  {
   "cell_type": "code",
   "execution_count": 45,
   "id": "390cc806",
   "metadata": {
    "scrolled": true
   },
   "outputs": [
    {
     "name": "stdout",
     "output_type": "stream",
     "text": [
      "<class 'pandas.core.frame.DataFrame'>\n",
      "RangeIndex: 891 entries, 0 to 890\n",
      "Data columns (total 9 columns):\n",
      " #   Column                Non-Null Count  Dtype  \n",
      "---  ------                --------------  -----  \n",
      " 0   Survived              891 non-null    int64  \n",
      " 1   Pclass                891 non-null    int64  \n",
      " 2   Sex                   891 non-null    object \n",
      " 3   Age                   891 non-null    float64\n",
      " 4   Fare                  891 non-null    float64\n",
      " 5   Embarked              889 non-null    object \n",
      " 6   No_of_family_members  891 non-null    int64  \n",
      " 7   Cabin_type            891 non-null    object \n",
      " 8   Is_Married            891 non-null    int64  \n",
      "dtypes: float64(2), int64(4), object(3)\n",
      "memory usage: 62.8+ KB\n"
     ]
    }
   ],
   "source": [
    "df.info()"
   ]
  },
  {
   "cell_type": "code",
   "execution_count": 46,
   "id": "18d93df5",
   "metadata": {},
   "outputs": [],
   "source": [
    "ordinal_col=['Pclass']\n",
    "Nominal_col=['Sex','Embarked']"
   ]
  },
  {
   "cell_type": "code",
   "execution_count": 47,
   "id": "c3969a59",
   "metadata": {
    "scrolled": true
   },
   "outputs": [],
   "source": [
    "def ordinal_encoding(x):\n",
    "    if x==3:\n",
    "        return 1\n",
    "    elif x==2:\n",
    "        return 2\n",
    "    elif x==1:\n",
    "        return 3\n",
    "    \n",
    "df['Pclass']=df['Pclass'].apply(ordinal_encoding)"
   ]
  },
  {
   "cell_type": "code",
   "execution_count": 48,
   "id": "71dbf986",
   "metadata": {},
   "outputs": [],
   "source": [
    "df.drop('Cabin_type',axis=1,inplace=True)"
   ]
  },
  {
   "cell_type": "code",
   "execution_count": 49,
   "id": "d20d4651",
   "metadata": {},
   "outputs": [],
   "source": [
    "## Encoding Nominal Columns\n",
    "\n",
    "df=pd.get_dummies(data=df,columns=Nominal_col,drop_first=True)"
   ]
  },
  {
   "cell_type": "markdown",
   "id": "7a08ae86",
   "metadata": {},
   "source": [
    "### <em> Spliting data </em>"
   ]
  },
  {
   "cell_type": "code",
   "execution_count": 50,
   "id": "ea30015e",
   "metadata": {},
   "outputs": [],
   "source": [
    "X=df.drop('Survived',axis=1)\n",
    "y=df['Survived']"
   ]
  },
  {
   "cell_type": "code",
   "execution_count": 51,
   "id": "408bf897",
   "metadata": {},
   "outputs": [],
   "source": [
    "from sklearn.model_selection import train_test_split\n",
    "\n",
    "X_train,X_test,y_train,y_test=train_test_split(X,y,test_size=0.2,random_state=42)"
   ]
  },
  {
   "cell_type": "code",
   "execution_count": 52,
   "id": "348dd0b8",
   "metadata": {
    "scrolled": true
   },
   "outputs": [
    {
     "data": {
      "text/html": [
       "<div>\n",
       "<style scoped>\n",
       "    .dataframe tbody tr th:only-of-type {\n",
       "        vertical-align: middle;\n",
       "    }\n",
       "\n",
       "    .dataframe tbody tr th {\n",
       "        vertical-align: top;\n",
       "    }\n",
       "\n",
       "    .dataframe thead th {\n",
       "        text-align: right;\n",
       "    }\n",
       "</style>\n",
       "<table border=\"1\" class=\"dataframe\">\n",
       "  <thead>\n",
       "    <tr style=\"text-align: right;\">\n",
       "      <th></th>\n",
       "      <th>Pclass</th>\n",
       "      <th>Age</th>\n",
       "      <th>Fare</th>\n",
       "      <th>No_of_family_members</th>\n",
       "      <th>Is_Married</th>\n",
       "      <th>Sex_male</th>\n",
       "      <th>Embarked_Q</th>\n",
       "      <th>Embarked_S</th>\n",
       "    </tr>\n",
       "  </thead>\n",
       "  <tbody>\n",
       "    <tr>\n",
       "      <th>331</th>\n",
       "      <td>3</td>\n",
       "      <td>45.5</td>\n",
       "      <td>28.5000</td>\n",
       "      <td>0</td>\n",
       "      <td>1</td>\n",
       "      <td>1</td>\n",
       "      <td>0</td>\n",
       "      <td>1</td>\n",
       "    </tr>\n",
       "    <tr>\n",
       "      <th>733</th>\n",
       "      <td>2</td>\n",
       "      <td>23.0</td>\n",
       "      <td>13.0000</td>\n",
       "      <td>0</td>\n",
       "      <td>1</td>\n",
       "      <td>1</td>\n",
       "      <td>0</td>\n",
       "      <td>1</td>\n",
       "    </tr>\n",
       "    <tr>\n",
       "      <th>382</th>\n",
       "      <td>1</td>\n",
       "      <td>32.0</td>\n",
       "      <td>7.9250</td>\n",
       "      <td>0</td>\n",
       "      <td>1</td>\n",
       "      <td>1</td>\n",
       "      <td>0</td>\n",
       "      <td>1</td>\n",
       "    </tr>\n",
       "    <tr>\n",
       "      <th>704</th>\n",
       "      <td>1</td>\n",
       "      <td>26.0</td>\n",
       "      <td>7.8542</td>\n",
       "      <td>1</td>\n",
       "      <td>1</td>\n",
       "      <td>1</td>\n",
       "      <td>0</td>\n",
       "      <td>1</td>\n",
       "    </tr>\n",
       "    <tr>\n",
       "      <th>813</th>\n",
       "      <td>1</td>\n",
       "      <td>6.0</td>\n",
       "      <td>31.2750</td>\n",
       "      <td>6</td>\n",
       "      <td>0</td>\n",
       "      <td>0</td>\n",
       "      <td>0</td>\n",
       "      <td>1</td>\n",
       "    </tr>\n",
       "  </tbody>\n",
       "</table>\n",
       "</div>"
      ],
      "text/plain": [
       "     Pclass   Age     Fare  No_of_family_members  Is_Married  Sex_male  \\\n",
       "331       3  45.5  28.5000                     0           1         1   \n",
       "733       2  23.0  13.0000                     0           1         1   \n",
       "382       1  32.0   7.9250                     0           1         1   \n",
       "704       1  26.0   7.8542                     1           1         1   \n",
       "813       1   6.0  31.2750                     6           0         0   \n",
       "\n",
       "     Embarked_Q  Embarked_S  \n",
       "331           0           1  \n",
       "733           0           1  \n",
       "382           0           1  \n",
       "704           0           1  \n",
       "813           0           1  "
      ]
     },
     "execution_count": 52,
     "metadata": {},
     "output_type": "execute_result"
    }
   ],
   "source": [
    "X_train.head()"
   ]
  },
  {
   "cell_type": "code",
   "execution_count": 53,
   "id": "aa863fe8",
   "metadata": {},
   "outputs": [
    {
     "data": {
      "text/html": [
       "<div>\n",
       "<style scoped>\n",
       "    .dataframe tbody tr th:only-of-type {\n",
       "        vertical-align: middle;\n",
       "    }\n",
       "\n",
       "    .dataframe tbody tr th {\n",
       "        vertical-align: top;\n",
       "    }\n",
       "\n",
       "    .dataframe thead th {\n",
       "        text-align: right;\n",
       "    }\n",
       "</style>\n",
       "<table border=\"1\" class=\"dataframe\">\n",
       "  <thead>\n",
       "    <tr style=\"text-align: right;\">\n",
       "      <th></th>\n",
       "      <th>Pclass</th>\n",
       "      <th>Age</th>\n",
       "      <th>Fare</th>\n",
       "      <th>No_of_family_members</th>\n",
       "      <th>Is_Married</th>\n",
       "      <th>Sex_male</th>\n",
       "      <th>Embarked_Q</th>\n",
       "      <th>Embarked_S</th>\n",
       "    </tr>\n",
       "  </thead>\n",
       "  <tbody>\n",
       "    <tr>\n",
       "      <th>709</th>\n",
       "      <td>1</td>\n",
       "      <td>29.699118</td>\n",
       "      <td>15.2458</td>\n",
       "      <td>2</td>\n",
       "      <td>0</td>\n",
       "      <td>1</td>\n",
       "      <td>0</td>\n",
       "      <td>0</td>\n",
       "    </tr>\n",
       "    <tr>\n",
       "      <th>439</th>\n",
       "      <td>2</td>\n",
       "      <td>31.000000</td>\n",
       "      <td>10.5000</td>\n",
       "      <td>0</td>\n",
       "      <td>1</td>\n",
       "      <td>1</td>\n",
       "      <td>0</td>\n",
       "      <td>1</td>\n",
       "    </tr>\n",
       "    <tr>\n",
       "      <th>840</th>\n",
       "      <td>1</td>\n",
       "      <td>20.000000</td>\n",
       "      <td>7.9250</td>\n",
       "      <td>0</td>\n",
       "      <td>1</td>\n",
       "      <td>1</td>\n",
       "      <td>0</td>\n",
       "      <td>1</td>\n",
       "    </tr>\n",
       "    <tr>\n",
       "      <th>720</th>\n",
       "      <td>2</td>\n",
       "      <td>6.000000</td>\n",
       "      <td>33.0000</td>\n",
       "      <td>1</td>\n",
       "      <td>0</td>\n",
       "      <td>0</td>\n",
       "      <td>0</td>\n",
       "      <td>1</td>\n",
       "    </tr>\n",
       "    <tr>\n",
       "      <th>39</th>\n",
       "      <td>1</td>\n",
       "      <td>14.000000</td>\n",
       "      <td>11.2417</td>\n",
       "      <td>1</td>\n",
       "      <td>0</td>\n",
       "      <td>0</td>\n",
       "      <td>0</td>\n",
       "      <td>0</td>\n",
       "    </tr>\n",
       "  </tbody>\n",
       "</table>\n",
       "</div>"
      ],
      "text/plain": [
       "     Pclass        Age     Fare  No_of_family_members  Is_Married  Sex_male  \\\n",
       "709       1  29.699118  15.2458                     2           0         1   \n",
       "439       2  31.000000  10.5000                     0           1         1   \n",
       "840       1  20.000000   7.9250                     0           1         1   \n",
       "720       2   6.000000  33.0000                     1           0         0   \n",
       "39        1  14.000000  11.2417                     1           0         0   \n",
       "\n",
       "     Embarked_Q  Embarked_S  \n",
       "709           0           0  \n",
       "439           0           1  \n",
       "840           0           1  \n",
       "720           0           1  \n",
       "39            0           0  "
      ]
     },
     "execution_count": 53,
     "metadata": {},
     "output_type": "execute_result"
    }
   ],
   "source": [
    "X_test.head()"
   ]
  },
  {
   "cell_type": "code",
   "execution_count": 54,
   "id": "5d09d63f",
   "metadata": {},
   "outputs": [
    {
     "data": {
      "text/plain": [
       "8"
      ]
     },
     "execution_count": 54,
     "metadata": {},
     "output_type": "execute_result"
    }
   ],
   "source": [
    "len(X_train.columns)"
   ]
  },
  {
   "cell_type": "code",
   "execution_count": 55,
   "id": "adfbd789",
   "metadata": {},
   "outputs": [
    {
     "data": {
      "text/plain": [
       "8"
      ]
     },
     "execution_count": 55,
     "metadata": {},
     "output_type": "execute_result"
    }
   ],
   "source": [
    "len(X_test.columns)"
   ]
  },
  {
   "cell_type": "markdown",
   "id": "1ee93562",
   "metadata": {},
   "source": [
    "## <em> Feature Selection <em>"
   ]
  },
  {
   "cell_type": "code",
   "execution_count": 56,
   "id": "04483f04",
   "metadata": {},
   "outputs": [],
   "source": [
    "from sklearn.feature_selection import mutual_info_classif\n",
    "\n",
    "mutual_info=mutual_info_classif(X_train,y_train)"
   ]
  },
  {
   "cell_type": "code",
   "execution_count": 57,
   "id": "a8a35e88",
   "metadata": {},
   "outputs": [
    {
     "data": {
      "text/plain": [
       "array([0.04046873, 0.04023641, 0.10508345, 0.05062359, 0.04718217,\n",
       "       0.14460558, 0.        , 0.00697198])"
      ]
     },
     "execution_count": 57,
     "metadata": {},
     "output_type": "execute_result"
    }
   ],
   "source": [
    "mutual_info"
   ]
  },
  {
   "cell_type": "code",
   "execution_count": 58,
   "id": "d8add72c",
   "metadata": {},
   "outputs": [
    {
     "data": {
      "text/html": [
       "<div>\n",
       "<style scoped>\n",
       "    .dataframe tbody tr th:only-of-type {\n",
       "        vertical-align: middle;\n",
       "    }\n",
       "\n",
       "    .dataframe tbody tr th {\n",
       "        vertical-align: top;\n",
       "    }\n",
       "\n",
       "    .dataframe thead th {\n",
       "        text-align: right;\n",
       "    }\n",
       "</style>\n",
       "<table border=\"1\" class=\"dataframe\">\n",
       "  <thead>\n",
       "    <tr style=\"text-align: right;\">\n",
       "      <th></th>\n",
       "      <th>Importance</th>\n",
       "    </tr>\n",
       "  </thead>\n",
       "  <tbody>\n",
       "    <tr>\n",
       "      <th>Pclass</th>\n",
       "      <td>0.040469</td>\n",
       "    </tr>\n",
       "    <tr>\n",
       "      <th>Age</th>\n",
       "      <td>0.040236</td>\n",
       "    </tr>\n",
       "    <tr>\n",
       "      <th>Fare</th>\n",
       "      <td>0.105083</td>\n",
       "    </tr>\n",
       "    <tr>\n",
       "      <th>No_of_family_members</th>\n",
       "      <td>0.050624</td>\n",
       "    </tr>\n",
       "    <tr>\n",
       "      <th>Is_Married</th>\n",
       "      <td>0.047182</td>\n",
       "    </tr>\n",
       "    <tr>\n",
       "      <th>Sex_male</th>\n",
       "      <td>0.144606</td>\n",
       "    </tr>\n",
       "    <tr>\n",
       "      <th>Embarked_Q</th>\n",
       "      <td>0.000000</td>\n",
       "    </tr>\n",
       "    <tr>\n",
       "      <th>Embarked_S</th>\n",
       "      <td>0.006972</td>\n",
       "    </tr>\n",
       "  </tbody>\n",
       "</table>\n",
       "</div>"
      ],
      "text/plain": [
       "                      Importance\n",
       "Pclass                  0.040469\n",
       "Age                     0.040236\n",
       "Fare                    0.105083\n",
       "No_of_family_members    0.050624\n",
       "Is_Married              0.047182\n",
       "Sex_male                0.144606\n",
       "Embarked_Q              0.000000\n",
       "Embarked_S              0.006972"
      ]
     },
     "execution_count": 58,
     "metadata": {},
     "output_type": "execute_result"
    }
   ],
   "source": [
    "feat_imp=pd.DataFrame(data=mutual_info,index=X_train.columns,columns=['Importance'])\n",
    "feat_imp"
   ]
  },
  {
   "cell_type": "code",
   "execution_count": 59,
   "id": "aa09ff9d",
   "metadata": {},
   "outputs": [
    {
     "data": {
      "text/plain": [
       "<AxesSubplot:>"
      ]
     },
     "execution_count": 59,
     "metadata": {},
     "output_type": "execute_result"
    },
    {
     "data": {
      "text/plain": [
       "<Figure size 720x432 with 0 Axes>"
      ]
     },
     "metadata": {},
     "output_type": "display_data"
    },
    {
     "data": {
      "image/png": "[encoded data removed]",
      "text/plain": [
       "<Figure size 432x288 with 1 Axes>"
      ]
     },
     "metadata": {
      "needs_background": "light"
     },
     "output_type": "display_data"
    }
   ],
   "source": [
    "plt.figure(figsize=(10,6))\n",
    "feat_imp.sort_values(by='Importance',ascending=False).plot.bar()"
   ]
  },
  {
   "cell_type": "markdown",
   "id": "83c20ba3",
   "metadata": {},
   "source": [
    "##### ---------------------------------------------------------------------------------------------------------------------"
   ]
  },
  {
   "cell_type": "markdown",
   "id": "728ef5b6",
   "metadata": {},
   "source": [
    "## <u><strong>Machine Learning Model</strong></u>"
   ]
  },
  {
   "cell_type": "code",
   "execution_count": 60,
   "id": "f436f96c",
   "metadata": {},
   "outputs": [],
   "source": [
    "## Importing ML Algorithmns\n",
    "\n",
    "from sklearn.linear_model import LogisticRegression\n",
    "from sklearn.tree import DecisionTreeClassifier\n",
    "from sklearn.ensemble import RandomForestClassifier\n",
    "from sklearn.ensemble import AdaBoostClassifier\n",
    "from xgboost import XGBClassifier\n",
    "\n"
   ]
  },
  {
   "cell_type": "code",
   "execution_count": 61,
   "id": "49fc1466",
   "metadata": {},
   "outputs": [],
   "source": [
    "def fit_model(model):\n",
    "    clf=model()\n",
    "    clf.fit(X_train,y_train)\n",
    "    return clf.predict(X_test)\n",
    "    "
   ]
  },
  {
   "cell_type": "markdown",
   "id": "13acf414",
   "metadata": {},
   "source": [
    "## <u><em>Evaluating model</em></u>"
   ]
  },
  {
   "cell_type": "code",
   "execution_count": 62,
   "id": "0f54316f",
   "metadata": {},
   "outputs": [],
   "source": [
    "### Importing Evaluation metrics \n",
    "\n",
    "from sklearn.metrics import classification_report\n",
    "from sklearn.metrics import confusion_matrix\n",
    "from sklearn.metrics import accuracy_score\n",
    "\n"
   ]
  },
  {
   "cell_type": "code",
   "execution_count": 63,
   "id": "4cf1c598",
   "metadata": {},
   "outputs": [],
   "source": [
    "def evaluate_model(y_pred):\n",
    "    score=accuracy_score(y_test,y_pred)\n",
    "    con=confusion_matrix(y_test,y_pred)\n",
    "    report=classification_report(y_test,y_pred)\n",
    "    print(f'The Accuracy of the Model is : {round(score*100,2)}')\n",
    "    print(' ')\n",
    "    print(\"Confusion Matrix\")\n",
    "    print(con)\n",
    "    print(' ')\n",
    "    print('Classification Report')\n",
    "    print(report)"
   ]
  },
  {
   "cell_type": "markdown",
   "id": "1971fd50",
   "metadata": {},
   "source": [
    "## <em><strong> Logistic Regression </strong></em>"
   ]
  },
  {
   "cell_type": "code",
   "execution_count": 64,
   "id": "9624529a",
   "metadata": {
    "scrolled": true
   },
   "outputs": [
    {
     "name": "stderr",
     "output_type": "stream",
     "text": [
      "C:\\Users\\Chauh\\anaconda3\\lib\\site-packages\\sklearn\\linear_model\\_logistic.py:763: ConvergenceWarning: lbfgs failed to converge (status=1):\n",
      "STOP: TOTAL NO. of ITERATIONS REACHED LIMIT.\n",
      "\n",
      "Increase the number of iterations (max_iter) or scale the data as shown in:\n",
      "    https://scikit-learn.org/stable/modules/preprocessing.html\n",
      "Please also refer to the documentation for alternative solver options:\n",
      "    https://scikit-learn.org/stable/modules/linear_model.html#logistic-regression\n",
      "  n_iter_i = _check_optimize_result(\n"
     ]
    }
   ],
   "source": [
    "y_pred_lr=fit_model(LogisticRegression)"
   ]
  },
  {
   "cell_type": "code",
   "execution_count": 65,
   "id": "e733b22b",
   "metadata": {},
   "outputs": [
    {
     "name": "stdout",
     "output_type": "stream",
     "text": [
      "The Accuracy of the Model is : 80.45\n",
      " \n",
      "Confusion Matrix\n",
      "[[90 15]\n",
      " [20 54]]\n",
      " \n",
      "Classification Report\n",
      "              precision    recall  f1-score   support\n",
      "\n",
      "           0       0.82      0.86      0.84       105\n",
      "           1       0.78      0.73      0.76        74\n",
      "\n",
      "    accuracy                           0.80       179\n",
      "   macro avg       0.80      0.79      0.80       179\n",
      "weighted avg       0.80      0.80      0.80       179\n",
      "\n"
     ]
    }
   ],
   "source": [
    "evaluate_model(y_pred_lr)"
   ]
  },
  {
   "cell_type": "markdown",
   "id": "2184b41a",
   "metadata": {},
   "source": [
    "## <em><strong> Decision Tree </strong></em>"
   ]
  },
  {
   "cell_type": "code",
   "execution_count": 66,
   "id": "2ede79b4",
   "metadata": {},
   "outputs": [],
   "source": [
    "y_pred_dt=fit_model(DecisionTreeClassifier)"
   ]
  },
  {
   "cell_type": "code",
   "execution_count": 67,
   "id": "076604b9",
   "metadata": {},
   "outputs": [
    {
     "name": "stdout",
     "output_type": "stream",
     "text": [
      "The Accuracy of the Model is : 78.21\n",
      " \n",
      "Confusion Matrix\n",
      "[[85 20]\n",
      " [19 55]]\n",
      " \n",
      "Classification Report\n",
      "              precision    recall  f1-score   support\n",
      "\n",
      "           0       0.82      0.81      0.81       105\n",
      "           1       0.73      0.74      0.74        74\n",
      "\n",
      "    accuracy                           0.78       179\n",
      "   macro avg       0.78      0.78      0.78       179\n",
      "weighted avg       0.78      0.78      0.78       179\n",
      "\n"
     ]
    }
   ],
   "source": [
    "evaluate_model(y_pred_dt)"
   ]
  },
  {
   "cell_type": "markdown",
   "id": "bbaaf7ea",
   "metadata": {},
   "source": [
    "## <em><strong> Random Forest </strong></em>"
   ]
  },
  {
   "cell_type": "code",
   "execution_count": 68,
   "id": "0c9c1959",
   "metadata": {},
   "outputs": [],
   "source": [
    "y_pred_rfc=fit_model(RandomForestClassifier)"
   ]
  },
  {
   "cell_type": "code",
   "execution_count": 69,
   "id": "502b2095",
   "metadata": {},
   "outputs": [
    {
     "name": "stdout",
     "output_type": "stream",
     "text": [
      "The Accuracy of the Model is : 82.12\n",
      " \n",
      "Confusion Matrix\n",
      "[[91 14]\n",
      " [18 56]]\n",
      " \n",
      "Classification Report\n",
      "              precision    recall  f1-score   support\n",
      "\n",
      "           0       0.83      0.87      0.85       105\n",
      "           1       0.80      0.76      0.78        74\n",
      "\n",
      "    accuracy                           0.82       179\n",
      "   macro avg       0.82      0.81      0.81       179\n",
      "weighted avg       0.82      0.82      0.82       179\n",
      "\n"
     ]
    }
   ],
   "source": [
    "evaluate_model(y_pred_rfc)"
   ]
  },
  {
   "cell_type": "markdown",
   "id": "5699e99f",
   "metadata": {},
   "source": [
    "## <em><strong> Ada Boost</em></strong>"
   ]
  },
  {
   "cell_type": "code",
   "execution_count": 70,
   "id": "b6bf3318",
   "metadata": {},
   "outputs": [],
   "source": [
    "y_pred_ada=fit_model(AdaBoostClassifier)"
   ]
  },
  {
   "cell_type": "code",
   "execution_count": 71,
   "id": "cac45b3f",
   "metadata": {},
   "outputs": [
    {
     "name": "stdout",
     "output_type": "stream",
     "text": [
      "The Accuracy of the Model is : 80.45\n",
      " \n",
      "Confusion Matrix\n",
      "[[89 16]\n",
      " [19 55]]\n",
      " \n",
      "Classification Report\n",
      "              precision    recall  f1-score   support\n",
      "\n",
      "           0       0.82      0.85      0.84       105\n",
      "           1       0.77      0.74      0.76        74\n",
      "\n",
      "    accuracy                           0.80       179\n",
      "   macro avg       0.80      0.80      0.80       179\n",
      "weighted avg       0.80      0.80      0.80       179\n",
      "\n"
     ]
    }
   ],
   "source": [
    "evaluate_model(y_pred_ada)"
   ]
  },
  {
   "cell_type": "markdown",
   "id": "7b352be9",
   "metadata": {},
   "source": [
    "## <em><strong> XGBoost </em></strong>"
   ]
  },
  {
   "cell_type": "code",
   "execution_count": 72,
   "id": "1ed0f5fd",
   "metadata": {},
   "outputs": [
    {
     "name": "stdout",
     "output_type": "stream",
     "text": [
      "[19:22:09] WARNING: C:/Users/Administrator/workspace/xgboost-win64_release_1.5.1/src/learner.cc:1115: Starting in XGBoost 1.3.0, the default evaluation metric used with the objective 'binary:logistic' was changed from 'error' to 'logloss'. Explicitly set eval_metric if you'd like to restore the old behavior.\n"
     ]
    },
    {
     "name": "stderr",
     "output_type": "stream",
     "text": [
      "C:\\Users\\Chauh\\anaconda3\\lib\\site-packages\\xgboost\\sklearn.py:1224: UserWarning: The use of label encoder in XGBClassifier is deprecated and will be removed in a future release. To remove this warning, do the following: 1) Pass option use_label_encoder=False when constructing XGBClassifier object; and 2) Encode your labels (y) as integers starting with 0, i.e. 0, 1, 2, ..., [num_class - 1].\n",
      "  warnings.warn(label_encoder_deprecation_msg, UserWarning)\n"
     ]
    }
   ],
   "source": [
    "y_pred_xgb=fit_model(XGBClassifier)"
   ]
  },
  {
   "cell_type": "code",
   "execution_count": 73,
   "id": "a6d7c2eb",
   "metadata": {},
   "outputs": [
    {
     "name": "stdout",
     "output_type": "stream",
     "text": [
      "The Accuracy of the Model is : 80.45\n",
      " \n",
      "Confusion Matrix\n",
      "[[89 16]\n",
      " [19 55]]\n",
      " \n",
      "Classification Report\n",
      "              precision    recall  f1-score   support\n",
      "\n",
      "           0       0.82      0.85      0.84       105\n",
      "           1       0.77      0.74      0.76        74\n",
      "\n",
      "    accuracy                           0.80       179\n",
      "   macro avg       0.80      0.80      0.80       179\n",
      "weighted avg       0.80      0.80      0.80       179\n",
      "\n"
     ]
    }
   ],
   "source": [
    "evaluate_model(y_pred_xgb)"
   ]
  },
  {
   "cell_type": "markdown",
   "id": "815de35f",
   "metadata": {},
   "source": [
    "###  --------------------------------------------------------------------------------------------------------------------------------\n",
    "\n",
    "### We got Highest Accuracy of 83 % from Random Forest Classifier"
   ]
  },
  {
   "cell_type": "code",
   "execution_count": 74,
   "id": "24dc19ee",
   "metadata": {},
   "outputs": [],
   "source": [
    "## Hyper parameter Tunning \n",
    "\n",
    "from sklearn.model_selection import GridSearchCV\n",
    "\n",
    "rfc=RandomForestClassifier()"
   ]
  },
  {
   "cell_type": "code",
   "execution_count": 75,
   "id": "134471e0",
   "metadata": {},
   "outputs": [
    {
     "data": {
      "text/plain": [
       "{'criterion': 'entropy', 'max_features': 'log2'}"
      ]
     },
     "execution_count": 75,
     "metadata": {},
     "output_type": "execute_result"
    }
   ],
   "source": [
    "grid={\n",
    "    'criterion':['gini','entropy'],\n",
    "    'max_features':[\"auto\", \"sqrt\", \"log2\"]\n",
    "}\n",
    "\n",
    "gcv=GridSearchCV(estimator=rfc,param_grid=grid,cv=5)\n",
    "gcv.fit(X_train,y_train)\n",
    "gcv.best_params_"
   ]
  },
  {
   "cell_type": "code",
   "execution_count": 76,
   "id": "9e632f2a",
   "metadata": {},
   "outputs": [],
   "source": [
    "gcv_clf=RandomForestClassifier(criterion='entropy',max_features='auto')"
   ]
  },
  {
   "cell_type": "code",
   "execution_count": 77,
   "id": "18c69ba6",
   "metadata": {},
   "outputs": [
    {
     "data": {
      "text/plain": [
       "RandomForestClassifier(criterion='entropy')"
      ]
     },
     "execution_count": 77,
     "metadata": {},
     "output_type": "execute_result"
    }
   ],
   "source": [
    "gcv_clf.fit(X_train,y_train)"
   ]
  },
  {
   "cell_type": "code",
   "execution_count": 78,
   "id": "3dd41c3b",
   "metadata": {},
   "outputs": [],
   "source": [
    "gcv_pred=gcv_clf.predict(X_test)"
   ]
  },
  {
   "cell_type": "code",
   "execution_count": 79,
   "id": "412d4589",
   "metadata": {},
   "outputs": [
    {
     "name": "stdout",
     "output_type": "stream",
     "text": [
      "The Accuracy of the Model is : 82.68\n",
      " \n",
      "Confusion Matrix\n",
      "[[91 14]\n",
      " [17 57]]\n",
      " \n",
      "Classification Report\n",
      "              precision    recall  f1-score   support\n",
      "\n",
      "           0       0.84      0.87      0.85       105\n",
      "           1       0.80      0.77      0.79        74\n",
      "\n",
      "    accuracy                           0.83       179\n",
      "   macro avg       0.82      0.82      0.82       179\n",
      "weighted avg       0.83      0.83      0.83       179\n",
      "\n"
     ]
    }
   ],
   "source": [
    "evaluate_model(gcv_pred)"
   ]
  },
  {
   "cell_type": "code",
   "execution_count": 81,
   "id": "0cf59279",
   "metadata": {},
   "outputs": [
    {
     "data": {
      "text/plain": [
       "array([0, 0, 0, 1, 0, 1, 1, 0, 1, 1, 1, 0, 0, 0, 0, 1, 0, 1, 0, 0, 0, 1,\n",
       "       0, 0, 0, 0, 1, 0, 0, 0, 0, 1, 1, 1, 0, 0, 1, 1, 1, 0, 0, 0, 0, 0,\n",
       "       0, 0, 0, 0, 0, 1, 1, 1, 0, 1, 0, 1, 0, 1, 1, 0, 0, 1, 1, 0, 0, 1,\n",
       "       0, 0, 0, 1, 1, 1, 1, 1, 0, 0, 1, 1, 1, 1, 0, 1, 1, 0, 0, 0, 1, 1,\n",
       "       0, 0, 1, 0, 0, 0, 0, 0, 0, 0, 1, 0, 0, 0, 1, 0, 0, 1, 1, 0, 0, 0,\n",
       "       1, 0, 1, 1, 0, 0, 0, 0, 1, 0, 0, 1, 1, 1, 0, 0, 1, 0, 0, 0, 1, 0,\n",
       "       0, 1, 0, 1, 1, 0, 0, 1, 0, 1, 0, 0, 0, 1, 0, 0, 1, 0, 0, 0, 0, 1,\n",
       "       0, 0, 1, 1, 1, 1, 0, 0, 0, 1, 0, 0, 0, 1, 0, 0, 0, 1, 1, 1, 0, 0,\n",
       "       0, 1, 1], dtype=int64)"
      ]
     },
     "execution_count": 81,
     "metadata": {},
     "output_type": "execute_result"
    }
   ],
   "source": [
    "rfc=RandomForestClassifier()\n",
    "rfc.fit(X_train,y_train)\n",
    "rfc.predict(X_test)"
   ]
  },
  {
   "cell_type": "code",
   "execution_count": 83,
   "id": "223601dc",
   "metadata": {},
   "outputs": [],
   "source": [
    "import pickle\n",
    "\n",
    "pickle.dump(rfc,open('Titanic.pkl','wb'))"
   ]
  },
  {
   "cell_type": "code",
   "execution_count": null,
   "id": "eea06f75",
   "metadata": {},
   "outputs": [],
   "source": []
  }
 ],
 "metadata": {
  "kernelspec": {
   "display_name": "Python 3",
   "language": "python",
   "name": "python3"
  },
  "language_info": {
   "codemirror_mode": {
    "name": "ipython",
    "version": 3
   },
   "file_extension": ".py",
   "mimetype": "text/x-python",
   "name": "python",
   "nbconvert_exporter": "python",
   "pygments_lexer": "ipython3",
   "version": "3.8.8"
  }
 },
 "nbformat": 4,
 "nbformat_minor": 5
}
